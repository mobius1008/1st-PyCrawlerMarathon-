{
 "cells": [
  {
   "cell_type": "markdown",
   "metadata": {},
   "source": [
    "# 實務上的爬蟲與挑戰\n",
    "\n",
    "\n",
    "* 實務上爬蟲可能遇到的問題有哪些\n",
    "* 淺談常見防爬蟲機制與處理策略\n",
    "* 如何建構一個可以自動持續更新的爬蟲程式\n",
    "\n",
    "\n"
   ]
  },
  {
   "cell_type": "markdown",
   "metadata": {},
   "source": [
    "## 作業目標\n",
    "\n",
    "* （簡答題）試著舉出一到三個爬蟲可能會遇到的問題導致無法抓取的？\n"
   ]
  },
  {
   "cell_type": "markdown",
   "metadata": {},
   "source": [
    "### （簡答題）試著舉出一到三個爬蟲可能會遇到的問題導致無法抓取的？"
   ]
  },
  {
   "cell_type": "code",
   "execution_count": 2,
   "metadata": {},
   "outputs": [
    {
     "name": "stdout",
     "output_type": "stream",
     "text": [
      "1.網頁會不定時跳出視窗，阻止爬蟲抓取\n",
      "2.沒有給Header的User Agent資訊，導致網頁內容無法顯示\n",
      "3.短時間內太頻繁的抓取內容，會被鎖定或是擋IP\n"
     ]
    }
   ],
   "source": [
    "# \"\"\"\n",
    "# Your Input Here\n",
    "# \"\"\"\n",
    "\n",
    "print(\"1.網頁會不定時跳出視窗，阻止爬蟲抓取\")\n",
    "print(\"2.沒有給Header的User Agent資訊，導致網頁內容無法顯示\")\n",
    "print(\"3.短時間內太頻繁的抓取內容，會被鎖定或是擋IP\")"
   ]
  },
  {
   "cell_type": "code",
   "execution_count": null,
   "metadata": {},
   "outputs": [],
   "source": []
  }
 ],
 "metadata": {
  "kernelspec": {
   "display_name": "Python 3",
   "language": "python",
   "name": "python3"
  },
  "language_info": {
   "codemirror_mode": {
    "name": "ipython",
    "version": 3
   },
   "file_extension": ".py",
   "mimetype": "text/x-python",
   "name": "python",
   "nbconvert_exporter": "python",
   "pygments_lexer": "ipython3",
   "version": "3.7.4"
  }
 },
 "nbformat": 4,
 "nbformat_minor": 2
}
