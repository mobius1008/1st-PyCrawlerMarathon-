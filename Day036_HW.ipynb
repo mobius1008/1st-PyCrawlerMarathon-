{
 "cells": [
  {
   "cell_type": "markdown",
   "metadata": {},
   "source": [
    "# 加速：非同步爬蟲\n",
    "\n",
    "* 了解非同步爬蟲加速原理與實作"
   ]
  },
  {
   "cell_type": "markdown",
   "metadata": {},
   "source": [
    "## 作業目標\n",
    "\n",
    "* 比較一下非同步爬蟲跟多線程爬蟲的差異是什麼？各自的優缺點為何？"
   ]
  },
  {
   "cell_type": "code",
   "execution_count": 1,
   "metadata": {
    "scrolled": true
   },
   "outputs": [
    {
     "data": {
      "text/plain": [
       "'\\n非同步\\n般程式都需要等前⼀一⾏行行執⾏行行完畢之後才會執⾏行行下⼀一⾏行行，⽽而非同步爬蟲的作法則是當某⼀一⾏行行程式開始執⾏行行時（不⽤用等到結束）就繼續執⾏行行下⼀一⾏行行。\\n\\n\\n多線程\\n多線程爬蟲的意思是⼀一次可以多個程式重複執⾏行行，因此也可以稱為平⾏行行處理理。\\n\\n'"
      ]
     },
     "execution_count": 1,
     "metadata": {},
     "output_type": "execute_result"
    }
   ],
   "source": [
    "# '''\n",
    "# Your Input\n",
    "# '''\n",
    "'''\n",
    "非同步\n",
    "般程式都需要等前⼀一⾏行行執⾏行行完畢之後才會執⾏行行下⼀一⾏行行，⽽而非同步爬蟲的作法則是當某⼀一⾏行行程式開始執⾏行行時（不⽤用等到結束）就繼續執⾏行行下⼀一⾏行行。\n",
    "\n",
    "\n",
    "多線程\n",
    "多線程爬蟲的意思是⼀一次可以多個程式重複執⾏行行，因此也可以稱為平⾏行行處理理。\n",
    "\n",
    "'''"
   ]
  },
  {
   "cell_type": "code",
   "execution_count": null,
   "metadata": {},
   "outputs": [],
   "source": []
  }
 ],
 "metadata": {
  "colab": {
   "name": "homework.ipynb",
   "provenance": []
  },
  "kernelspec": {
   "display_name": "Python 3",
   "language": "python",
   "name": "python3"
  },
  "language_info": {
   "codemirror_mode": {
    "name": "ipython",
    "version": 3
   },
   "file_extension": ".py",
   "mimetype": "text/x-python",
   "name": "python",
   "nbconvert_exporter": "python",
   "pygments_lexer": "ipython3",
   "version": "3.7.4"
  }
 },
 "nbformat": 4,
 "nbformat_minor": 1
}
