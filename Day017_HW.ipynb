{
 "cells": [
  {
   "cell_type": "markdown",
   "metadata": {},
   "source": [
    "# HTTP 動態網頁架構說明\n",
    "\n",
    "\n",
    "* 了解動態網頁的資料爬蟲策略\n",
    "* 知道非同步網頁載入機制（Ajax）\n",
    "* 學習兩種對應動態網頁爬蟲的的策略\n"
   ]
  },
  {
   "cell_type": "markdown",
   "metadata": {},
   "source": [
    "## 作業目標\n",
    "\n",
    "回答以下問題：\n",
    "\n",
    "1. 動態網頁跟靜態網頁的差別是什麼？原本靜態網頁的做法會產生什麼問題或是缺點？\n",
    "2. 還記得我們在 ETTODAY 靜態爬蟲實作練習中，有請大家完成一個題目「取出今天所有的發文」，但仔細看其實並沒有真的把當天所有的新聞都抓回來， 試著回答看看原因是什麼？及該如何檢查？\n"
   ]
  },
  {
   "cell_type": "markdown",
   "metadata": {},
   "source": [
    "### 1. 動態網頁跟靜態網頁的差別是什麼？原本靜態網頁的做法會產生什麼問題或是缺點？"
   ]
  },
  {
   "cell_type": "code",
   "execution_count": 3,
   "metadata": {},
   "outputs": [
    {
     "data": {
      "text/plain": [
       "'\\n靜態網⾴頁是透過每⼀一次使\\n⽤用者請求，後端會產⽣生⼀一次網⾴頁回傳，所以請求與回傳是⼀一對⼀一的，\\n有些⼈人把他們稱為同步。\\n在動態網⾴頁的話，是透過 Ajax 的技術，來來完\\n成非同步的資料傳輸\\n\\n動態網⾴頁與靜態網⾴頁最⼤大的不同是資料是在什什麼時間點取得的。\\n動態\\n網⾴頁是在瀏覽器已經取得 HTML 後，才透過 JavaScript 在需要時動\\n態地取得資料\\n'"
      ]
     },
     "execution_count": 3,
     "metadata": {},
     "output_type": "execute_result"
    }
   ],
   "source": [
    "# '''\n",
    "# Your Input\n",
    "# '''\n",
    "'''\n",
    "靜態網⾴頁是透過每⼀一次使\n",
    "⽤用者請求，後端會產⽣生⼀一次網⾴頁回傳，所以請求與回傳是⼀一對⼀一的，\n",
    "有些⼈人把他們稱為同步。\n",
    "在動態網⾴頁的話，是透過 Ajax 的技術，來來完\n",
    "成非同步的資料傳輸\n",
    "\n",
    "動態網⾴頁與靜態網⾴頁最⼤大的不同是資料是在什什麼時間點取得的。\n",
    "動態\n",
    "網⾴頁是在瀏覽器已經取得 HTML 後，才透過 JavaScript 在需要時動\n",
    "態地取得資料\n",
    "'''"
   ]
  },
  {
   "cell_type": "markdown",
   "metadata": {},
   "source": [
    "### 2. 還記得我們在 ETTODAY 靜態爬蟲實作練習中，有請大家完成一個題目「取出今天所有的發文」，但仔細看其實並沒有真的把當天所有的新聞都抓回來， 試著回答看看原因是什麼？及該如何檢查？"
   ]
  },
  {
   "cell_type": "code",
   "execution_count": 4,
   "metadata": {},
   "outputs": [
    {
     "data": {
      "text/plain": [
       "'\\n可用透過 JavaScript來處理\\n'"
      ]
     },
     "execution_count": 4,
     "metadata": {},
     "output_type": "execute_result"
    }
   ],
   "source": [
    "# '''\n",
    "# Your Input\n",
    "# '''\n",
    "'''\n",
    "可用透過 JavaScript來處理\n",
    "'''"
   ]
  },
  {
   "cell_type": "code",
   "execution_count": null,
   "metadata": {},
   "outputs": [],
   "source": []
  },
  {
   "cell_type": "code",
   "execution_count": null,
   "metadata": {},
   "outputs": [],
   "source": []
  }
 ],
 "metadata": {
  "kernelspec": {
   "display_name": "Python 3",
   "language": "python",
   "name": "python3"
  },
  "language_info": {
   "codemirror_mode": {
    "name": "ipython",
    "version": 3
   },
   "file_extension": ".py",
   "mimetype": "text/x-python",
   "name": "python",
   "nbconvert_exporter": "python",
   "pygments_lexer": "ipython3",
   "version": "3.7.4"
  }
 },
 "nbformat": 4,
 "nbformat_minor": 2
}
