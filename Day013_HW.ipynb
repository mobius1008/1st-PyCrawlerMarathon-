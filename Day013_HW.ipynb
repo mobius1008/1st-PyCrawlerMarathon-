{
 "cells": [
  {
   "cell_type": "markdown",
   "metadata": {},
   "source": [
    "# PTT 網路爬蟲實作練習\n",
    "\n",
    "\n",
    "* 能夠利用 Request + BeatifulSour 撰寫爬蟲，並存放到合適的資料結構\n"
   ]
  },
  {
   "cell_type": "markdown",
   "metadata": {},
   "source": [
    "## 作業目標\n",
    "\n",
    "根據範例 ，完成以下問題：\n",
    "\n",
    "* ① 印出最新文章的「作者」「標題」「時間」\n",
    "* ② 印出第一頁所有文章的「作者」「標題」「時間」\n"
   ]
  },
  {
   "cell_type": "markdown",
   "metadata": {},
   "source": [
    "### ① 印出最新文章的「作者」「標題」「時間」"
   ]
  },
  {
   "cell_type": "code",
   "execution_count": 1,
   "metadata": {},
   "outputs": [
    {
     "name": "stdout",
     "output_type": "stream",
     "text": [
      "標題: [新聞] 席亞康37分12籃板 暴龍主場成功射日\n",
      "作者: phoenix286 (糰子大家族)\n",
      "時間:  2/22\n",
      "標題: [出售] 4/7 湖人主場vs勇士 \n",
      "作者: sabasibayari (沙巴西巴亞瑞)\n",
      "時間:  2/22\n",
      "標題: [外絮] Harkless計畫在尼克打完這季\n",
      "作者: BradleyBeal (布萊德利・比爾)\n",
      "時間:  2/22\n",
      "標題: [新聞] 韋德退休憂破產 鄉民狂酸\n",
      "作者: semih (Sayginer)\n",
      "時間:  2/22\n",
      "標題: [情報] Trae Young 解釋為何沒留下首場得50分球衣\n",
      "作者: thnlkj0665 (灰色地帶)\n",
      "時間:  2/22\n",
      "標題: (已被Vedan刪除) <checktime>3-3軟限制\n",
      "標題: [花邊] Wade打趣:不敢和DJJ說話 他們會覺得我是\n",
      "作者: manuginobii (做愛校 果真累人)\n",
      "時間:  2/22\n",
      "標題: [新聞] 單場七火鍋擋下灰熊 AD放眼最佳防守球員\n",
      "作者: Gotham (萬惡之城)\n",
      "時間:  2/22\n",
      "標題: Re: [花邊] shaq和LBJ因時間衝突將不會出現wade球衣\n",
      "作者: heatthree (熱火三)\n",
      "時間:  2/22\n",
      "標題: [花邊] 金塊Jokic公開招募獨行俠Doncic\n",
      "作者: inthenchen ( )\n",
      "時間:  2/22\n",
      "標題: [公告] 板規v6.8\n",
      "標題: [公告] 版主上任相關事項 \n",
      "作者: qazwsx879345 (Rajon Rondo)\n",
      "時間:  2/22\n",
      "標題: [情報] SEASON Schedule 賽程 February 19–20\n",
      "作者: Acetoxy (阿斯)\n",
      "時間:  2/22\n"
     ]
    }
   ],
   "source": [
    "# '''\n",
    "# Your Code\n",
    "# '''\n",
    "import requests\n",
    "from bs4 import BeautifulSoup\n",
    "\n",
    "url = 'https://www.ptt.cc/bbs/NBA/index.html'\n",
    "r = requests.get(url)\n",
    "\n",
    "soup = BeautifulSoup(r.text, \"html5lib\")\n",
    "\n",
    "for d in soup.find_all(class_=\"title\"):\n",
    "    print('標題: ' + d.text.replace('\\t', '').replace('\\n', ''))\n",
    "    try:\n",
    "        r = BeautifulSoup(requests.get('https://www.ptt.cc'+d.find('a')['href']).text, \"html5lib\")\n",
    "        print('作者: ' + r.find(class_='article-meta-value').text)\n",
    "        print('時間: ' + soup.find(class_='date').text)\n",
    "    except:\n",
    "        continue"
   ]
  },
  {
   "cell_type": "markdown",
   "metadata": {},
   "source": [
    "### ② 印出第一頁所有文章的「作者」「標題」「時間」"
   ]
  },
  {
   "cell_type": "code",
   "execution_count": 2,
   "metadata": {},
   "outputs": [
    {
     "name": "stdout",
     "output_type": "stream",
     "text": [
      "標題: [轉錄]Lyotard 對於太陽板討論串的結論\n",
      "作者: Price (Price)\n",
      "時間:  5/16\n",
      "標題: [公告] 請停止一切關於本次活動的發言\n",
      "作者: Price (Price)\n",
      "時間:  5/16\n",
      "標題: [轉錄]跟之前那篇比起來 我覺得這篇也應該轉過來\n",
      "作者: Frankaze (神采風華)\n",
      "時間:  5/16\n",
      "標題: [轉錄]再轉一篇好文來\n",
      "作者: Frankaze (神采風華)\n",
      "時間:  5/16\n",
      "標題: [轉錄][情報] 夏洛特山貓系列\n",
      "作者: Price (Price)\n",
      "時間:  5/16\n",
      "標題: [轉錄]Re: [心得] 真是受不了糗爺....\n",
      "作者: Price (Price)\n",
      "時間:  5/16\n",
      "標題: [轉錄]總冠軍賽NO.2觀後感\n",
      "作者: Price (Price)\n",
      "時間:  5/16\n",
      "標題: [心得] Rasheed Wallace\n",
      "作者: AmuroNamie (原來太嗨真的會失眠^___^)\n",
      "時間:  5/16\n",
      "標題: 掌控球賽的男人\n",
      "作者: toptree (  )\n",
      "時間:  5/16\n",
      "標題: [閒聊] 說說2004季後賽名場面回顧\n",
      "作者: skchang (3EB板開板囉！)\n",
      "時間:  5/16\n",
      "標題: [心得] 其實說穿了 就是活塞的防守太可怕了\n",
      "作者: shineup ()\n",
      "時間:  5/16\n",
      "標題: Re: [閒聊] 說說2004季後賽名場面回顧\n",
      "作者: cOvi (喵~)\n",
      "時間:  5/16\n",
      "標題: Re: [閒聊] 說說2004季後賽名場面回顧\n",
      "作者: ykshih (￼N￼Ns)\n",
      "時間:  5/16\n",
      "標題: Re: [閒聊] 說說2004季後賽名場面回顧\n",
      "作者: Frankaze (神采風華)\n",
      "時間:  5/16\n",
      "標題: [轉錄]Re: 總冠軍賽NO.3觀後感\n",
      "作者: Price (Price)\n",
      "時間:  5/16\n",
      "標題: [轉錄]Re: 總冠軍賽NO.3觀後感\n",
      "作者: Frankaze (神采風華)\n",
      "時間:  5/16\n",
      "標題: Re: [轉錄]Re: 總冠軍賽NO.3觀後感\n",
      "作者: star1 (第一次魔術表演不算成功)\n",
      "時間:  5/16\n",
      "標題: Re: [轉錄]Re: 總冠軍賽NO.3觀後感\n",
      "作者: coldspring (笑笑)\n",
      "時間:  5/16\n",
      "標題: Re: Kobe is frustrated...\n",
      "作者: airbear (地圖)\n",
      "時間:  5/16\n",
      "標題: Re: [轉錄]Re: 總冠軍賽NO.3觀後感\n",
      "作者: pennykidd (andre)\n",
      "時間:  5/16\n"
     ]
    }
   ],
   "source": [
    "# '''\n",
    "# Your Code\n",
    "# '''\n",
    "page = 1\n",
    "url = 'https://www.ptt.cc/bbs/NBA/index'+str(page)+'.html'\n",
    "r = requests.get(url)\n",
    "\n",
    "soup = BeautifulSoup(r.text, \"html5lib\")\n",
    "\n",
    "for d in soup.find_all(class_=\"title\"):\n",
    "    print('標題: ' + d.text.replace('\\t', '').replace('\\n', ''))\n",
    "    try:\n",
    "        r = BeautifulSoup(requests.get('https://www.ptt.cc'+d.find('a')['href']).text, \"html5lib\")\n",
    "        print('作者: ' + r.find(class_='article-meta-value').text)\n",
    "        print('時間: ' + soup.find(class_='date').text)\n",
    "    except:\n",
    "        continue"
   ]
  },
  {
   "cell_type": "markdown",
   "metadata": {},
   "source": [
    "### ③ 試著爬爬看其他版的文章"
   ]
  },
  {
   "cell_type": "code",
   "execution_count": 3,
   "metadata": {},
   "outputs": [
    {
     "name": "stdout",
     "output_type": "stream",
     "text": [
      "標題: [討論] 夏日童年--四眼田雞麥諾利多\n",
      "作者: IamJean (我愛電影)\n",
      "時間:  1/08\n",
      "標題: [知識] 我又再看神鬼傳奇1了\n",
      "作者: demona@kkcity.com.tw (),\n",
      "時間:  1/08\n",
      "標題: [心得] 昨天東森演的鬼上門\n",
      "作者: nin64 (Gary)\n",
      "時間:  1/08\n",
      "標題: [心得] 三部曲之鬥法\n",
      "作者: cyrille (小偉)\n",
      "時間:  1/08\n",
      "標題: [心得] 看完《女神陷阱》的碎碎唸..........\n",
      "作者: Comer.bbs@cia.hinet.net (SMILE!X_X),\n",
      "時間:  1/08\n",
      "標題: [心得] 情路長短調…有劇情\n",
      "作者: getlaw.bbs@bbs.cs.nthu.edu.tw (海潮之聲),\n",
      "時間:  1/08\n",
      "標題: [轉貼] alice看~「摩登」時代\n",
      "作者: bohemia.bbs@bbs.kimo.com.tw (Bohemia),\n",
      "時間:  1/08\n",
      "標題: [感想] 紅色,瘋狂,縱火的原點:Point of Origi …\n",
      "作者: totoroJack (Very End of World)\n",
      "時間:  1/08\n",
      "標題: Re: [心得] 藍色協奏曲\n",
      "作者: loiter (MOCA)\n",
      "時間:  1/08\n",
      "標題: [心得] 我看<藍色協奏曲>\n",
      "作者: Jolynn (微笑代替一切)\n",
      "時間:  1/08\n",
      "標題: [心得] 第凡內早餐\n",
      "作者: cavinlai (紅髮齊格飛)\n",
      "時間:  1/08\n",
      "標題: [心得] Dark Fury: 星際傳奇跟超世紀戰警間遺 …\n",
      "作者: firewalker (火行者)\n",
      "時間:  1/08\n",
      "標題: [心得] Movie~魔女嘉麗--無法擺脫的校園悲劇\n",
      "作者: bushman (weery)\n",
      "時間:  1/08\n",
      "標題: [情報] \"Flamenco\" by Carlos Saura\n",
      "作者: TulipChiu (我多麼羨慕你..￾       )\n",
      "時間:  1/08\n",
      "標題: [心得] 終極追殺令~~\n",
      "標題: [情報] 關於異形的小常識\n",
      "作者: A1an (再說)\n",
      "時間:  1/08\n",
      "標題: [閒聊] 終極戰士也是會進步的\n",
      "作者: bbc (阿～球來就打阿！！)\n",
      "時間:  1/08\n",
      "標題: [心得] 剛看了大蟒蛇血蘭花\n",
      "作者: shinada (幸福喵喵)\n",
      "時間:  1/08\n",
      "標題: [心得] 決戰時刻~~ \n",
      "作者: yoyo9269 (jesse)\n",
      "時間:  1/08\n",
      "標題: Re:[心得] 美國殺人魔結局\n",
      "作者: EvilBunny (男人就是賤)\n",
      "時間:  1/08\n"
     ]
    }
   ],
   "source": [
    "# '''\n",
    "# Your Code\n",
    "# '''\n",
    "\n",
    "page = 1\n",
    "url = 'https://www.ptt.cc/bbs/movie/index'+str(page)+'.html'\n",
    "r = requests.get(url)\n",
    "\n",
    "soup = BeautifulSoup(r.text, \"html5lib\")\n",
    "\n",
    "for d in soup.find_all(class_=\"title\"):\n",
    "    print('標題: ' + d.text.replace('\\t', '').replace('\\n', ''))\n",
    "    try:\n",
    "        r = BeautifulSoup(requests.get('https://www.ptt.cc'+d.find('a')['href']).text, \"html5lib\")\n",
    "        print('作者: ' + r.find(class_='article-meta-value').text)\n",
    "        print('時間: ' + soup.find(class_='date').text)\n",
    "    except:\n",
    "        continue"
   ]
  },
  {
   "cell_type": "code",
   "execution_count": null,
   "metadata": {},
   "outputs": [],
   "source": []
  }
 ],
 "metadata": {
  "kernelspec": {
   "display_name": "Python 3",
   "language": "python",
   "name": "python3"
  },
  "language_info": {
   "codemirror_mode": {
    "name": "ipython",
    "version": 3
   },
   "file_extension": ".py",
   "mimetype": "text/x-python",
   "name": "python",
   "nbconvert_exporter": "python",
   "pygments_lexer": "ipython3",
   "version": "3.7.4"
  }
 },
 "nbformat": 4,
 "nbformat_minor": 2
}
