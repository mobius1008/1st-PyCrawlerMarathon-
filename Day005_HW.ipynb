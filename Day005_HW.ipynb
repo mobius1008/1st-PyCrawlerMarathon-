{
 "cells": [
  {
   "cell_type": "markdown",
   "metadata": {},
   "source": [
    "# API 資料串接 - 以 Dcard API 實作範例\n",
    "\n",
    "* 了解 Dcard API 使用方式與回傳內容\n",
    "* 撰寫程式存取 API 且解析 JSON 格式資料\n"
   ]
  },
  {
   "cell_type": "markdown",
   "metadata": {},
   "source": [
    "## 作業目標\n",
    "\n",
    "* 請利用 API: https://www.dcard.tw/_api/forums/pet/posts?popular=true 回答下列問題：\n",
    "\n",
    "1. 這個 API 一次會回傳幾筆資料？每一筆資料包含哪些欄位？\n",
    "2. 取出每一筆資料的「標題」、「貼文時間」、「留言人數」、「按讚人數」\n",
    "3. 計算熱門/非熱門文章的「平均留言人數」與「平均按讚人數」"
   ]
  },
  {
   "cell_type": "code",
   "execution_count": 1,
   "metadata": {},
   "outputs": [
    {
     "name": "stdout",
     "output_type": "stream",
     "text": [
      "一次回傳30筆資料\n"
     ]
    }
   ],
   "source": [
    "# 1. 這個 API 一次會回傳幾筆資料？每一筆資料包含哪些欄位？\n",
    "\n",
    "# '''\n",
    "# Your Code\n",
    "# '''\n",
    "import requests\n",
    "import json\n",
    "r = requests.get('https://www.dcard.tw/_api/forums/pet/posts?popular=true')\n",
    "data = json.loads(r.text)\n",
    "\n",
    "print(\"一次回傳\"+str(len(data))+\"筆資料\")"
   ]
  },
  {
   "cell_type": "code",
   "execution_count": 2,
   "metadata": {},
   "outputs": [
    {
     "name": "stdout",
     "output_type": "stream",
     "text": [
      "妳會恨我嗎⋯⋯？（文長） 2020-02-03T07:57:12.576Z 5 134\n",
      "養了四隻貓-出生日記 2020-02-03T08:25:45.583Z 2 57\n",
      "冬天到了，來隻貓吧！ 2020-02-03T11:48:12.172Z 12 52\n",
      "公佈偷窺者長相 2020-02-03T23:21:26.093Z 12 41\n",
      "雞排護衛隊 2020-02-03T05:44:59.524Z 1 26\n",
      "我覺得我家狗很可愛！還會幫我找逃家的老鼠！ 2020-02-03T04:18:02.181Z 7 22\n",
      "⚠️注意⚠️ 愛狗人士請進 2020-02-04T03:44:00.597Z 2 20\n",
      "節分-金角橘 2020-02-03T04:15:21.622Z 4 17\n",
      "我的小公主🐰 2020-02-03T15:55:56.372Z 9 16\n",
      "百變貓咪🐱 2020-02-03T15:43:27.723Z 1 15\n",
      "我滴貓 2020-02-04T00:04:20.536Z 1 13\n",
      "倉鼠與廚房紙巾 2020-02-03T01:20:07.196Z 5 11\n",
      "口罩被家裡的貓咬爆 2020-02-03T16:45:45.256Z 0 10\n",
      "大推的貓咪旅館 2020-02-03T11:45:09.538Z 2 9\n",
      "@黑特@網美疑似餵狗喝酒 2020-02-03T17:59:49.092Z 3 8\n",
      "#問 有人知道這隻貓的名字嗎？ 2020-02-03T14:18:10.547Z 3 8\n",
      "到底是誰教你歪嘴笑跟wink！ 2020-02-02T19:33:21.899Z 1 7\n",
      "可以不要那麼鄙視我嗎 2020-02-03T12:00:13.834Z 1 6\n",
      "#失蹤協尋 #貓咪走失 請大家幫幫忙！！ 2020-02-04T05:31:49.431Z 0 5\n",
      "我家的小屁孩 2020-02-03T03:53:16.985Z 0 4\n",
      "貓咪行為詢問 2020-02-03T07:49:39.564Z 1 3\n",
      "急！大家知道這是什麼的幼鳥嗎？（剛撿到的） 2020-02-04T04:16:28.841Z 5 2\n",
      "這是我新養的貓 2020-02-04T03:14:04.881Z 3 2\n",
      "被🐈撒嬌了一整天(˶‾᷄ ⁻̫ ‾᷅˵) 2020-02-03T16:01:24.206Z 0 2\n",
      "有人養的小虎斑貓不見了嗎 2020-02-03T15:52:50.300Z 1 2\n",
      "怎麼才能讓毛孩子愛上運動😂 2020-02-03T11:06:54.248Z 3 2\n",
      "#請益 #狗狗行為問題 2020-02-04T04:53:28.148Z 0 1\n",
      "大家飼料怎麼分裝？ 2020-02-04T03:50:55.470Z 2 1\n",
      "想請問一下半夜除了1999還有可以幫忙這種流浪動物被撞的事情。 2020-02-03T21:45:32.936Z 6 1\n",
      "怎麼分貓貓年齡？？？？？ 2020-02-03T16:30:31.436Z 2 1\n"
     ]
    }
   ],
   "source": [
    "# 2. 取出每一筆資料的「標題」、「貼文時間」、「留言人數」、「按讚人數」\n",
    "\n",
    "# '''\n",
    "# Your Code\n",
    "# '''\n",
    "for i in data:\n",
    "    print(i[\"title\"], i[\"createdAt\"], i[\"commentCount\"], i[\"likeCount\"])"
   ]
  },
  {
   "cell_type": "code",
   "execution_count": 3,
   "metadata": {},
   "outputs": [
    {
     "name": "stdout",
     "output_type": "stream",
     "text": [
      "熱門文章的「平均留言人數」為3.1333333333333333\n",
      "熱門文章的「平均按讚人數」為16.6\n",
      "非熱門文章的「平均留言人數」為2.6333333333333333\n",
      "非熱門文章的「平均留言人數」為7.233333333333333\n"
     ]
    }
   ],
   "source": [
    "# 3. 計算熱門/非熱門文章的「平均留言人數」與「平均按讚人數」\n",
    "\n",
    "# '''\n",
    "# Your Code\n",
    "# '''\n",
    "\n",
    "total_commentCount = 0\n",
    "total_likeCount = 0\n",
    "#熱門文章\n",
    "for i in data:\n",
    "    total_commentCount += i[\"commentCount\"]\n",
    "    total_likeCount += i[\"likeCount\"]\n",
    "avg_commentCount = total_commentCount / len(data)\n",
    "avg_likeCount = total_likeCount / len(data)\n",
    "print(\"熱門文章的「平均留言人數」為\" + str(avg_commentCount))\n",
    "print(\"熱門文章的「平均按讚人數」為\" + str(avg_likeCount))\n",
    "\n",
    "\n",
    "r = requests.get('https://www.dcard.tw/_api/forums/pet/posts')\n",
    "data2 = json.loads(r.text)\n",
    "\n",
    "total_commentCount2 = 0\n",
    "total_likeCount2 = 0\n",
    "for i in data2:\n",
    "    total_commentCount2 += i[\"commentCount\"]\n",
    "    total_likeCount2 += i[\"likeCount\"]\n",
    "avg_commentCount2 = total_commentCount2 / len(data2)\n",
    "avg_likeCount2 = total_likeCount2 / len(data2)\n",
    "print(\"非熱門文章的「平均留言人數」為\" + str(avg_commentCount2))\n",
    "print(\"非熱門文章的「平均留言人數」為\" + str(avg_likeCount2))"
   ]
  },
  {
   "cell_type": "code",
   "execution_count": null,
   "metadata": {},
   "outputs": [],
   "source": []
  },
  {
   "cell_type": "code",
   "execution_count": null,
   "metadata": {},
   "outputs": [],
   "source": []
  }
 ],
 "metadata": {
  "kernelspec": {
   "display_name": "Python 3",
   "language": "python",
   "name": "python3"
  },
  "language_info": {
   "codemirror_mode": {
    "name": "ipython",
    "version": 3
   },
   "file_extension": ".py",
   "mimetype": "text/x-python",
   "name": "python",
   "nbconvert_exporter": "python",
   "pygments_lexer": "ipython3",
   "version": "3.7.4"
  }
 },
 "nbformat": 4,
 "nbformat_minor": 2
}
